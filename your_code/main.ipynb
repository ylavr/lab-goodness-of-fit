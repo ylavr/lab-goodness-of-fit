{
 "cells": [
  {
   "cell_type": "markdown",
   "metadata": {},
   "source": [
    "## Question 1\n",
    "A researcher gathers information about the patterns of Physical Activity of children in the fifth grade of primary school of a public school. He defines three categories of physical activity (Low, Medium, High). He also inquires about the regular consumption of sugary drinks at school, and defines two categories (Yes = consumed, No = not consumed). We would like to evaluate if there is an association between patterns of physical activity and the consumption of sugary drinks for the children of this school, at a level of 5% significance. The results are in the following table: \n",
    "\n",
    "![](table4.png)"
   ]
  },
  {
   "cell_type": "code",
   "execution_count": 4,
   "metadata": {},
   "outputs": [
    {
     "name": "stdout",
     "output_type": "stream",
     "text": [
      "Chi-Square Statistic: 10.712198008709638\n",
      "P-Value: 0.004719280137040844\n",
      "Degrees of Freedom: 2\n",
      "Expected Frequencies:\n",
      "[[24.08421053 19.91578947]\n",
      " [19.70526316 16.29473684]\n",
      " [ 8.21052632  6.78947368]]\n",
      "We reject the null hypothesis. There is a significant association between physical activity and sugary drink consumption.\n"
     ]
    }
   ],
   "source": [
    "# your answer here\n",
    "# Null Hypothesis (H₀): There is no association between patterns of physical activity and the consumption of sugary drinks (the variables are independent).\n",
    "# Alternative Hypothesis (H₁): There is an association between patterns of physical activity and the consumption of sugary drinks (the variables are dependent).\n",
    "\n",
    "\n",
    "import numpy as np\n",
    "import pandas as pd\n",
    "from scipy.stats import chi2_contingency\n",
    "\n",
    "data = {\n",
    "    'Physical Activity': ['Low', 'Low', 'Medium', 'Medium', 'High', 'High'],\n",
    "    'Sugary Drinks Yes': [32, 12, 14, 22, 6, 9],\n",
    "    'Sugary Drinks No': [12, 32, 22, 14, 9, 6]\n",
    "}\n",
    "\n",
    "# Create a DataFrame\n",
    "df = pd.DataFrame(data)\n",
    "\n",
    "# Create a contingency table\n",
    "contingency_table = np.array([[32, 12], [14, 22], [6, 9]])\n",
    "\n",
    "# Perform the Chi-Square test\n",
    "chi2, p, dof, expected = chi2_contingency(contingency_table)\n",
    "\n",
    "\n",
    "print(f\"Chi-Square Statistic: {chi2}\")\n",
    "print(f\"P-Value: {p}\")\n",
    "print(f\"Degrees of Freedom: {dof}\")\n",
    "print(\"Expected Frequencies:\")\n",
    "print(expected)\n",
    "\n",
    "alpha = 0.05\n",
    "if p < alpha:\n",
    "    print(\"We reject the null hypothesis. There is a significant association between physical activity and sugary drink consumption.\")\n",
    "else:\n",
    "    print(\"We fail to reject the null hypothesis. There is no significant association between physical activity and sugary drink consumption.\")"
   ]
  },
  {
   "cell_type": "markdown",
   "metadata": {},
   "source": [
    "## [OPTIONAL] Question 2\n",
    "The following table indicates the number of 6-point scores in an American rugby match in the 1979 season.\n",
    "\n",
    "![](table1.png)\n",
    "\n",
    "Based on these results, we create a Poisson distribution with the sample mean parameter  = 2.435. Is there any reason to believe that at a .05 level the number of scores is a Poisson variable?\n",
    "\n",
    "Check [here](https://www.geeksforgeeks.org/how-to-create-a-poisson-probability-mass-function-plot-in-python/) how to create a poisson distribution and how to calculate the expected observations, using the probability mass function (pmf). \n",
    "A Poisson distribution is a discrete probability distribution. It gives the probability of an event happening a certain number of times (k) within a given interval of time or space. The Poisson distribution has only one parameter, λ (lambda), which is the mean number of events."
   ]
  },
  {
   "cell_type": "code",
   "execution_count": 2,
   "metadata": {},
   "outputs": [],
   "source": [
    "# your answer here"
   ]
  }
 ],
 "metadata": {
  "kernelspec": {
   "display_name": "Python 3",
   "language": "python",
   "name": "python3"
  },
  "language_info": {
   "codemirror_mode": {
    "name": "ipython",
    "version": 3
   },
   "file_extension": ".py",
   "mimetype": "text/x-python",
   "name": "python",
   "nbconvert_exporter": "python",
   "pygments_lexer": "ipython3",
   "version": "3.10.11"
  }
 },
 "nbformat": 4,
 "nbformat_minor": 2
}
